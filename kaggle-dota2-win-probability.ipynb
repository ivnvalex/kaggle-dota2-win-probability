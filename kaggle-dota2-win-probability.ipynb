{
 "cells": [
  {
   "cell_type": "code",
   "execution_count": 1,
   "metadata": {},
   "outputs": [],
   "source": [
    "import numpy as np\n",
    "import pandas as pd\n",
    "import time\n",
    "import datetime\n",
    "import sklearn.model_selection\n",
    "import sklearn.ensemble\n",
    "import matplotlib.pyplot as plt\n",
    "import sklearn.preprocessing\n",
    "import sklearn.linear_model"
   ]
  },
  {
   "cell_type": "markdown",
   "metadata": {},
   "source": [
    "Считаем таблицу с признаками из файла features.csv."
   ]
  },
  {
   "cell_type": "code",
   "execution_count": 2,
   "metadata": {},
   "outputs": [
    {
     "data": {
      "text/html": [
       "<div>\n",
       "<style scoped>\n",
       "    .dataframe tbody tr th:only-of-type {\n",
       "        vertical-align: middle;\n",
       "    }\n",
       "\n",
       "    .dataframe tbody tr th {\n",
       "        vertical-align: top;\n",
       "    }\n",
       "\n",
       "    .dataframe thead th {\n",
       "        text-align: right;\n",
       "    }\n",
       "</style>\n",
       "<table border=\"1\" class=\"dataframe\">\n",
       "  <thead>\n",
       "    <tr style=\"text-align: right;\">\n",
       "      <th></th>\n",
       "      <th>start_time</th>\n",
       "      <th>lobby_type</th>\n",
       "      <th>r1_hero</th>\n",
       "      <th>r1_level</th>\n",
       "      <th>r1_xp</th>\n",
       "      <th>r1_gold</th>\n",
       "      <th>r1_lh</th>\n",
       "      <th>r1_kills</th>\n",
       "      <th>r1_deaths</th>\n",
       "      <th>r1_items</th>\n",
       "      <th>...</th>\n",
       "      <th>dire_boots_count</th>\n",
       "      <th>dire_ward_observer_count</th>\n",
       "      <th>dire_ward_sentry_count</th>\n",
       "      <th>dire_first_ward_time</th>\n",
       "      <th>duration</th>\n",
       "      <th>radiant_win</th>\n",
       "      <th>tower_status_radiant</th>\n",
       "      <th>tower_status_dire</th>\n",
       "      <th>barracks_status_radiant</th>\n",
       "      <th>barracks_status_dire</th>\n",
       "    </tr>\n",
       "    <tr>\n",
       "      <th>match_id</th>\n",
       "      <th></th>\n",
       "      <th></th>\n",
       "      <th></th>\n",
       "      <th></th>\n",
       "      <th></th>\n",
       "      <th></th>\n",
       "      <th></th>\n",
       "      <th></th>\n",
       "      <th></th>\n",
       "      <th></th>\n",
       "      <th></th>\n",
       "      <th></th>\n",
       "      <th></th>\n",
       "      <th></th>\n",
       "      <th></th>\n",
       "      <th></th>\n",
       "      <th></th>\n",
       "      <th></th>\n",
       "      <th></th>\n",
       "      <th></th>\n",
       "      <th></th>\n",
       "    </tr>\n",
       "  </thead>\n",
       "  <tbody>\n",
       "    <tr>\n",
       "      <th>0</th>\n",
       "      <td>1430198770</td>\n",
       "      <td>7</td>\n",
       "      <td>11</td>\n",
       "      <td>5</td>\n",
       "      <td>2098</td>\n",
       "      <td>1489</td>\n",
       "      <td>20</td>\n",
       "      <td>0</td>\n",
       "      <td>0</td>\n",
       "      <td>7</td>\n",
       "      <td>...</td>\n",
       "      <td>4</td>\n",
       "      <td>2</td>\n",
       "      <td>2</td>\n",
       "      <td>-52.0</td>\n",
       "      <td>2874</td>\n",
       "      <td>1</td>\n",
       "      <td>1796</td>\n",
       "      <td>0</td>\n",
       "      <td>51</td>\n",
       "      <td>0</td>\n",
       "    </tr>\n",
       "    <tr>\n",
       "      <th>1</th>\n",
       "      <td>1430220345</td>\n",
       "      <td>0</td>\n",
       "      <td>42</td>\n",
       "      <td>4</td>\n",
       "      <td>1188</td>\n",
       "      <td>1033</td>\n",
       "      <td>9</td>\n",
       "      <td>0</td>\n",
       "      <td>1</td>\n",
       "      <td>12</td>\n",
       "      <td>...</td>\n",
       "      <td>4</td>\n",
       "      <td>3</td>\n",
       "      <td>1</td>\n",
       "      <td>-5.0</td>\n",
       "      <td>2463</td>\n",
       "      <td>1</td>\n",
       "      <td>1974</td>\n",
       "      <td>0</td>\n",
       "      <td>63</td>\n",
       "      <td>1</td>\n",
       "    </tr>\n",
       "    <tr>\n",
       "      <th>2</th>\n",
       "      <td>1430227081</td>\n",
       "      <td>7</td>\n",
       "      <td>33</td>\n",
       "      <td>4</td>\n",
       "      <td>1319</td>\n",
       "      <td>1270</td>\n",
       "      <td>22</td>\n",
       "      <td>0</td>\n",
       "      <td>0</td>\n",
       "      <td>12</td>\n",
       "      <td>...</td>\n",
       "      <td>4</td>\n",
       "      <td>3</td>\n",
       "      <td>1</td>\n",
       "      <td>13.0</td>\n",
       "      <td>2130</td>\n",
       "      <td>0</td>\n",
       "      <td>0</td>\n",
       "      <td>1830</td>\n",
       "      <td>0</td>\n",
       "      <td>63</td>\n",
       "    </tr>\n",
       "    <tr>\n",
       "      <th>3</th>\n",
       "      <td>1430263531</td>\n",
       "      <td>1</td>\n",
       "      <td>29</td>\n",
       "      <td>4</td>\n",
       "      <td>1779</td>\n",
       "      <td>1056</td>\n",
       "      <td>14</td>\n",
       "      <td>0</td>\n",
       "      <td>0</td>\n",
       "      <td>5</td>\n",
       "      <td>...</td>\n",
       "      <td>4</td>\n",
       "      <td>2</td>\n",
       "      <td>0</td>\n",
       "      <td>27.0</td>\n",
       "      <td>1459</td>\n",
       "      <td>0</td>\n",
       "      <td>1920</td>\n",
       "      <td>2047</td>\n",
       "      <td>50</td>\n",
       "      <td>63</td>\n",
       "    </tr>\n",
       "    <tr>\n",
       "      <th>4</th>\n",
       "      <td>1430282290</td>\n",
       "      <td>7</td>\n",
       "      <td>13</td>\n",
       "      <td>4</td>\n",
       "      <td>1431</td>\n",
       "      <td>1090</td>\n",
       "      <td>8</td>\n",
       "      <td>1</td>\n",
       "      <td>0</td>\n",
       "      <td>8</td>\n",
       "      <td>...</td>\n",
       "      <td>3</td>\n",
       "      <td>3</td>\n",
       "      <td>0</td>\n",
       "      <td>-16.0</td>\n",
       "      <td>2449</td>\n",
       "      <td>0</td>\n",
       "      <td>4</td>\n",
       "      <td>1974</td>\n",
       "      <td>3</td>\n",
       "      <td>63</td>\n",
       "    </tr>\n",
       "    <tr>\n",
       "      <th>...</th>\n",
       "      <td>...</td>\n",
       "      <td>...</td>\n",
       "      <td>...</td>\n",
       "      <td>...</td>\n",
       "      <td>...</td>\n",
       "      <td>...</td>\n",
       "      <td>...</td>\n",
       "      <td>...</td>\n",
       "      <td>...</td>\n",
       "      <td>...</td>\n",
       "      <td>...</td>\n",
       "      <td>...</td>\n",
       "      <td>...</td>\n",
       "      <td>...</td>\n",
       "      <td>...</td>\n",
       "      <td>...</td>\n",
       "      <td>...</td>\n",
       "      <td>...</td>\n",
       "      <td>...</td>\n",
       "      <td>...</td>\n",
       "      <td>...</td>\n",
       "    </tr>\n",
       "    <tr>\n",
       "      <th>114402</th>\n",
       "      <td>1450265551</td>\n",
       "      <td>1</td>\n",
       "      <td>47</td>\n",
       "      <td>4</td>\n",
       "      <td>1706</td>\n",
       "      <td>1198</td>\n",
       "      <td>17</td>\n",
       "      <td>0</td>\n",
       "      <td>1</td>\n",
       "      <td>8</td>\n",
       "      <td>...</td>\n",
       "      <td>4</td>\n",
       "      <td>3</td>\n",
       "      <td>0</td>\n",
       "      <td>-24.0</td>\n",
       "      <td>2032</td>\n",
       "      <td>0</td>\n",
       "      <td>1792</td>\n",
       "      <td>1975</td>\n",
       "      <td>48</td>\n",
       "      <td>63</td>\n",
       "    </tr>\n",
       "    <tr>\n",
       "      <th>114403</th>\n",
       "      <td>1450277704</td>\n",
       "      <td>0</td>\n",
       "      <td>43</td>\n",
       "      <td>4</td>\n",
       "      <td>1793</td>\n",
       "      <td>1416</td>\n",
       "      <td>17</td>\n",
       "      <td>0</td>\n",
       "      <td>1</td>\n",
       "      <td>5</td>\n",
       "      <td>...</td>\n",
       "      <td>3</td>\n",
       "      <td>2</td>\n",
       "      <td>0</td>\n",
       "      <td>-17.0</td>\n",
       "      <td>1734</td>\n",
       "      <td>1</td>\n",
       "      <td>2038</td>\n",
       "      <td>6</td>\n",
       "      <td>63</td>\n",
       "      <td>3</td>\n",
       "    </tr>\n",
       "    <tr>\n",
       "      <th>114404</th>\n",
       "      <td>1450291848</td>\n",
       "      <td>1</td>\n",
       "      <td>98</td>\n",
       "      <td>4</td>\n",
       "      <td>1399</td>\n",
       "      <td>540</td>\n",
       "      <td>1</td>\n",
       "      <td>0</td>\n",
       "      <td>0</td>\n",
       "      <td>5</td>\n",
       "      <td>...</td>\n",
       "      <td>1</td>\n",
       "      <td>3</td>\n",
       "      <td>1</td>\n",
       "      <td>-15.0</td>\n",
       "      <td>2906</td>\n",
       "      <td>0</td>\n",
       "      <td>1796</td>\n",
       "      <td>1846</td>\n",
       "      <td>51</td>\n",
       "      <td>63</td>\n",
       "    </tr>\n",
       "    <tr>\n",
       "      <th>114405</th>\n",
       "      <td>1450292986</td>\n",
       "      <td>1</td>\n",
       "      <td>100</td>\n",
       "      <td>3</td>\n",
       "      <td>1135</td>\n",
       "      <td>766</td>\n",
       "      <td>6</td>\n",
       "      <td>0</td>\n",
       "      <td>2</td>\n",
       "      <td>6</td>\n",
       "      <td>...</td>\n",
       "      <td>3</td>\n",
       "      <td>3</td>\n",
       "      <td>1</td>\n",
       "      <td>-42.0</td>\n",
       "      <td>951</td>\n",
       "      <td>0</td>\n",
       "      <td>2039</td>\n",
       "      <td>2047</td>\n",
       "      <td>63</td>\n",
       "      <td>63</td>\n",
       "    </tr>\n",
       "    <tr>\n",
       "      <th>114406</th>\n",
       "      <td>1450313370</td>\n",
       "      <td>7</td>\n",
       "      <td>50</td>\n",
       "      <td>3</td>\n",
       "      <td>1053</td>\n",
       "      <td>799</td>\n",
       "      <td>7</td>\n",
       "      <td>0</td>\n",
       "      <td>0</td>\n",
       "      <td>7</td>\n",
       "      <td>...</td>\n",
       "      <td>3</td>\n",
       "      <td>2</td>\n",
       "      <td>0</td>\n",
       "      <td>-39.0</td>\n",
       "      <td>2086</td>\n",
       "      <td>1</td>\n",
       "      <td>1982</td>\n",
       "      <td>0</td>\n",
       "      <td>63</td>\n",
       "      <td>0</td>\n",
       "    </tr>\n",
       "  </tbody>\n",
       "</table>\n",
       "<p>97230 rows × 108 columns</p>\n",
       "</div>"
      ],
      "text/plain": [
       "          start_time  lobby_type  r1_hero  r1_level  r1_xp  r1_gold  r1_lh  \\\n",
       "match_id                                                                     \n",
       "0         1430198770           7       11         5   2098     1489     20   \n",
       "1         1430220345           0       42         4   1188     1033      9   \n",
       "2         1430227081           7       33         4   1319     1270     22   \n",
       "3         1430263531           1       29         4   1779     1056     14   \n",
       "4         1430282290           7       13         4   1431     1090      8   \n",
       "...              ...         ...      ...       ...    ...      ...    ...   \n",
       "114402    1450265551           1       47         4   1706     1198     17   \n",
       "114403    1450277704           0       43         4   1793     1416     17   \n",
       "114404    1450291848           1       98         4   1399      540      1   \n",
       "114405    1450292986           1      100         3   1135      766      6   \n",
       "114406    1450313370           7       50         3   1053      799      7   \n",
       "\n",
       "          r1_kills  r1_deaths  r1_items  ...  dire_boots_count  \\\n",
       "match_id                                 ...                     \n",
       "0                0          0         7  ...                 4   \n",
       "1                0          1        12  ...                 4   \n",
       "2                0          0        12  ...                 4   \n",
       "3                0          0         5  ...                 4   \n",
       "4                1          0         8  ...                 3   \n",
       "...            ...        ...       ...  ...               ...   \n",
       "114402           0          1         8  ...                 4   \n",
       "114403           0          1         5  ...                 3   \n",
       "114404           0          0         5  ...                 1   \n",
       "114405           0          2         6  ...                 3   \n",
       "114406           0          0         7  ...                 3   \n",
       "\n",
       "          dire_ward_observer_count  dire_ward_sentry_count  \\\n",
       "match_id                                                     \n",
       "0                                2                       2   \n",
       "1                                3                       1   \n",
       "2                                3                       1   \n",
       "3                                2                       0   \n",
       "4                                3                       0   \n",
       "...                            ...                     ...   \n",
       "114402                           3                       0   \n",
       "114403                           2                       0   \n",
       "114404                           3                       1   \n",
       "114405                           3                       1   \n",
       "114406                           2                       0   \n",
       "\n",
       "          dire_first_ward_time  duration  radiant_win  tower_status_radiant  \\\n",
       "match_id                                                                      \n",
       "0                        -52.0      2874            1                  1796   \n",
       "1                         -5.0      2463            1                  1974   \n",
       "2                         13.0      2130            0                     0   \n",
       "3                         27.0      1459            0                  1920   \n",
       "4                        -16.0      2449            0                     4   \n",
       "...                        ...       ...          ...                   ...   \n",
       "114402                   -24.0      2032            0                  1792   \n",
       "114403                   -17.0      1734            1                  2038   \n",
       "114404                   -15.0      2906            0                  1796   \n",
       "114405                   -42.0       951            0                  2039   \n",
       "114406                   -39.0      2086            1                  1982   \n",
       "\n",
       "          tower_status_dire  barracks_status_radiant  barracks_status_dire  \n",
       "match_id                                                                    \n",
       "0                         0                       51                     0  \n",
       "1                         0                       63                     1  \n",
       "2                      1830                        0                    63  \n",
       "3                      2047                       50                    63  \n",
       "4                      1974                        3                    63  \n",
       "...                     ...                      ...                   ...  \n",
       "114402                 1975                       48                    63  \n",
       "114403                    6                       63                     3  \n",
       "114404                 1846                       51                    63  \n",
       "114405                 2047                       63                    63  \n",
       "114406                    0                       63                     0  \n",
       "\n",
       "[97230 rows x 108 columns]"
      ]
     },
     "execution_count": 2,
     "metadata": {},
     "output_type": "execute_result"
    }
   ],
   "source": [
    "features = pd.read_csv('features.csv', index_col='match_id')\n",
    "features"
   ]
  },
  {
   "cell_type": "markdown",
   "metadata": {},
   "source": [
    "Целевая переменная — radiant_win."
   ]
  },
  {
   "cell_type": "code",
   "execution_count": 3,
   "metadata": {},
   "outputs": [],
   "source": [
    "y = features['radiant_win']"
   ]
  },
  {
   "cell_type": "markdown",
   "metadata": {},
   "source": [
    "Удалить признаки, связанные с итогами матча (они помечены в описании данных как отсутствующие в тестовой выборке)."
   ]
  },
  {
   "cell_type": "code",
   "execution_count": 4,
   "metadata": {},
   "outputs": [],
   "source": [
    "features.drop(['duration', 'radiant_win','tower_status_radiant', 'tower_status_dire',\n",
    "               'barracks_status_radiant', 'barracks_status_dire'], axis='columns', inplace=True)"
   ]
  },
  {
   "cell_type": "markdown",
   "metadata": {},
   "source": [
    "Проверить выборку на наличие пропусков."
   ]
  },
  {
   "cell_type": "code",
   "execution_count": 5,
   "metadata": {},
   "outputs": [
    {
     "data": {
      "text/plain": [
       "first_blood_time               77677\n",
       "first_blood_team               77677\n",
       "first_blood_player1            77677\n",
       "first_blood_player2            53243\n",
       "radiant_bottle_time            81539\n",
       "radiant_courier_time           96538\n",
       "radiant_flying_courier_time    69751\n",
       "radiant_first_ward_time        95394\n",
       "dire_bottle_time               81087\n",
       "dire_courier_time              96554\n",
       "dire_flying_courier_time       71132\n",
       "dire_first_ward_time           95404\n",
       "dtype: int64"
      ]
     },
     "execution_count": 5,
     "metadata": {},
     "output_type": "execute_result"
    }
   ],
   "source": [
    "features.count()[np.where(features.count()<np.max(features.count()))[0]]"
   ]
  },
  {
   "cell_type": "markdown",
   "metadata": {},
   "source": [
    "В 12 признаках имеется лишь от 53243 до 96538 значений из 97230 значений.\n",
    "Для признака 'radiant_bottle_time' пропуски означают, что лишь в 81539/97230 игр команды преобретают предмет 'bottle' в первые 5 минут игры.\n",
    "Аналогично, для признака 'radiant_first_ward_time' пропуски означают, что установки командой первого \"наблюдателя\" (в первые 5 минут игры) происходят в 95394/97320 игр и т.д."
   ]
  },
  {
   "cell_type": "markdown",
   "metadata": {},
   "source": [
    "Необходимо заменить пропуски на нули с помощью функции fillna(). На самом деле этот способ является предпочтительным для логистической регрессии, поскольку он позволит пропущенному значению не вносить никакого вклада в предсказание. Для деревьев часто лучшим вариантом оказывается замена пропуска на очень большое или очень маленькое значение — в этом случае при построении разбиения вершины можно будет отправить объекты с пропусками в отдельную ветвь дерева. Также есть и другие подходы — например, замена пропуска на среднее значение признака."
   ]
  },
  {
   "cell_type": "code",
   "execution_count": 6,
   "metadata": {},
   "outputs": [],
   "source": [
    "features.fillna(0, inplace=True)"
   ]
  },
  {
   "cell_type": "markdown",
   "metadata": {},
   "source": [
    "Подход 1: градиентный бустинг над решающими деревьями"
   ]
  },
  {
   "cell_type": "markdown",
   "metadata": {},
   "source": [
    "Забудем, что в выборке есть категориальные признаки, и попробуем обучить градиентный бустинг над деревьями на имеющейся матрице \"объекты-признаки\". Зафиксируем генератор разбиений для кросс-валидации по 5 блокам, не забудем перемешать при этом выборку, поскольку данные в таблице отсортированы по времени, и без перемешивания можно столкнуться с нежелательными эффектами при оценивании качества. Оценим качество градиентного бустинга с помощью данной кросс-валидации, попробуем при этом разное количество деревьев (10, 20, 30, 40, 50, 200)."
   ]
  },
  {
   "cell_type": "code",
   "execution_count": 7,
   "metadata": {},
   "outputs": [
    {
     "name": "stdout",
     "output_type": "stream",
     "text": [
      "      Iter       Train Loss   Remaining Time \n",
      "         1           1.3788           11.25s\n",
      "         2           1.3732            9.54s\n",
      "         3           1.3681            8.53s\n",
      "         4           1.3637            7.12s\n",
      "         5           1.3591            6.03s\n",
      "         6           1.3545            4.87s\n",
      "         7           1.3500            3.50s\n",
      "         8           1.3457            2.23s\n",
      "         9           1.3417            1.07s\n",
      "        10           1.3378            0.00s\n",
      "      Iter       Train Loss   Remaining Time \n",
      "         1           1.3786            6.64s\n",
      "         2           1.3731            5.80s\n",
      "         3           1.3684            5.08s\n",
      "         4           1.3640            4.33s\n",
      "         5           1.3590            3.60s\n",
      "         6           1.3548            2.91s\n",
      "         7           1.3505            2.19s\n",
      "         8           1.3461            1.45s\n",
      "         9           1.3422            0.74s\n",
      "        10           1.3386            0.00s\n",
      "      Iter       Train Loss   Remaining Time \n",
      "         1           1.3784            6.45s\n",
      "         2           1.3729            5.75s\n",
      "         3           1.3677            5.02s\n",
      "         4           1.3631            4.30s\n",
      "         5           1.3588            3.59s\n",
      "         6           1.3542            2.87s\n",
      "         7           1.3499            2.15s\n",
      "         8           1.3458            1.44s\n",
      "         9           1.3416            0.73s\n",
      "        10           1.3378            0.00s\n",
      "      Iter       Train Loss   Remaining Time \n",
      "         1           1.3783            6.61s\n",
      "         2           1.3726            5.91s\n",
      "         3           1.3677            5.19s\n",
      "         4           1.3631            4.41s\n",
      "         5           1.3582            3.67s\n",
      "         6           1.3541            2.92s\n",
      "         7           1.3497            2.18s\n",
      "         8           1.3452            1.45s\n",
      "         9           1.3414            0.73s\n",
      "        10           1.3377            0.00s\n",
      "      Iter       Train Loss   Remaining Time \n",
      "         1           1.3786            6.53s\n",
      "         2           1.3730            5.80s\n",
      "         3           1.3677            5.07s\n",
      "         4           1.3631            4.34s\n",
      "         5           1.3580            3.60s\n",
      "         6           1.3538            2.89s\n",
      "         7           1.3492            2.17s\n",
      "         8           1.3450            1.45s\n",
      "         9           1.3409            0.72s\n",
      "        10           1.3370            0.00s\n",
      "Time elapsed: 0:00:40.330749\n",
      "10 trees yield ROC-AUC = 0.6637\n",
      "      Iter       Train Loss   Remaining Time \n",
      "         1           1.3788           13.62s\n",
      "         2           1.3732           13.05s\n",
      "         3           1.3681           12.29s\n",
      "         4           1.3637           11.57s\n",
      "         5           1.3591           10.86s\n",
      "         6           1.3545           10.12s\n",
      "         7           1.3500            9.38s\n",
      "         8           1.3457            8.65s\n",
      "         9           1.3417            7.92s\n",
      "        10           1.3378            7.21s\n",
      "        20           1.3083            0.00s\n",
      "      Iter       Train Loss   Remaining Time \n",
      "         1           1.3786           13.69s\n",
      "         2           1.3731           12.93s\n",
      "         3           1.3684           12.19s\n",
      "         4           1.3640           11.47s\n",
      "         5           1.3590           10.75s\n",
      "         6           1.3548           10.05s\n",
      "         7           1.3505            9.32s\n",
      "         8           1.3461            8.61s\n",
      "         9           1.3422            7.89s\n",
      "        10           1.3386            7.17s\n",
      "        20           1.3090            0.00s\n",
      "      Iter       Train Loss   Remaining Time \n",
      "         1           1.3784           13.69s\n",
      "         2           1.3729           12.91s\n",
      "         3           1.3677           12.18s\n",
      "         4           1.3631           11.55s\n",
      "         5           1.3588           10.83s\n",
      "         6           1.3542           10.09s\n",
      "         7           1.3499            9.36s\n",
      "         8           1.3458            8.63s\n",
      "         9           1.3416            7.91s\n",
      "        10           1.3378            7.19s\n",
      "        20           1.3082            0.00s\n",
      "      Iter       Train Loss   Remaining Time \n",
      "         1           1.3783           13.66s\n",
      "         2           1.3726           12.89s\n",
      "         3           1.3677           12.17s\n",
      "         4           1.3631           11.44s\n",
      "         5           1.3582           10.72s\n",
      "         6           1.3541           10.02s\n",
      "         7           1.3497            9.31s\n",
      "         8           1.3452            8.60s\n",
      "         9           1.3414            7.89s\n",
      "        10           1.3377            7.17s\n",
      "        20           1.3080            0.00s\n",
      "      Iter       Train Loss   Remaining Time \n",
      "         1           1.3786           14.09s\n",
      "         2           1.3730           13.23s\n",
      "         3           1.3677           12.36s\n",
      "         4           1.3631           11.56s\n",
      "         5           1.3580           10.79s\n",
      "         6           1.3538           10.07s\n",
      "         7           1.3492            9.35s\n",
      "         8           1.3450            8.62s\n",
      "         9           1.3409            7.88s\n",
      "        10           1.3370            7.16s\n",
      "        20           1.3073            0.00s\n",
      "Time elapsed: 0:01:11.441312\n",
      "20 trees yield ROC-AUC = 0.6817\n",
      "      Iter       Train Loss   Remaining Time \n",
      "         1           1.3788           20.72s\n",
      "         2           1.3732           19.98s\n",
      "         3           1.3681           19.19s\n",
      "         4           1.3637           18.47s\n",
      "         5           1.3591           17.76s\n",
      "         6           1.3545           17.08s\n",
      "         7           1.3500           16.34s\n",
      "         8           1.3457           15.66s\n",
      "         9           1.3417           14.93s\n",
      "        10           1.3378           14.23s\n",
      "        20           1.3083            7.04s\n",
      "        30           1.2879            0.00s\n",
      "      Iter       Train Loss   Remaining Time \n",
      "         1           1.3786           20.85s\n",
      "         2           1.3731           19.97s\n",
      "         3           1.3684           19.28s\n",
      "         4           1.3640           18.51s\n",
      "         5           1.3590           17.81s\n",
      "         6           1.3548           17.12s\n",
      "         7           1.3505           16.40s\n",
      "         8           1.3461           15.68s\n",
      "         9           1.3422           14.98s\n",
      "        10           1.3386           14.25s\n",
      "        20           1.3090            7.03s\n",
      "        30           1.2888            0.00s\n",
      "      Iter       Train Loss   Remaining Time \n",
      "         1           1.3784           20.75s\n",
      "         2           1.3729           19.98s\n",
      "         3           1.3677           19.22s\n",
      "         4           1.3631           18.51s\n",
      "         5           1.3588           17.80s\n",
      "         6           1.3542           17.09s\n",
      "         7           1.3499           16.35s\n",
      "         8           1.3458           15.65s\n",
      "         9           1.3416           14.93s\n",
      "        10           1.3378           14.21s\n",
      "        20           1.3082            7.05s\n",
      "        30           1.2882            0.00s\n",
      "      Iter       Train Loss   Remaining Time \n",
      "         1           1.3783           20.94s\n",
      "         2           1.3726           20.00s\n",
      "         3           1.3677           19.19s\n",
      "         4           1.3631           18.45s\n",
      "         5           1.3582           17.73s\n",
      "         6           1.3541           17.04s\n",
      "         7           1.3497           16.31s\n",
      "         8           1.3452           15.62s\n",
      "         9           1.3414           14.91s\n",
      "        10           1.3377           14.20s\n",
      "        20           1.3080            7.04s\n",
      "        30           1.2875            0.00s\n",
      "      Iter       Train Loss   Remaining Time \n",
      "         1           1.3786           20.83s\n",
      "         2           1.3730           19.95s\n",
      "         3           1.3677           19.17s\n",
      "         4           1.3631           18.43s\n",
      "         5           1.3580           17.70s\n",
      "         6           1.3538           17.01s\n",
      "         7           1.3492           16.31s\n",
      "         8           1.3450           15.60s\n",
      "         9           1.3409           14.88s\n",
      "        10           1.3370           14.18s\n",
      "        20           1.3073            7.03s\n",
      "        30           1.2869            0.00s\n",
      "Time elapsed: 0:01:45.897824\n",
      "30 trees yield ROC-AUC = 0.6886\n",
      "      Iter       Train Loss   Remaining Time \n"
     ]
    },
    {
     "name": "stdout",
     "output_type": "stream",
     "text": [
      "         1           1.3788           27.82s\n",
      "         2           1.3732           27.07s\n",
      "         3           1.3681           26.31s\n",
      "         4           1.3637           25.53s\n",
      "         5           1.3591           24.87s\n",
      "         6           1.3545           24.17s\n",
      "         7           1.3500           23.44s\n",
      "         8           1.3457           22.73s\n",
      "         9           1.3417           22.00s\n",
      "        10           1.3378           21.29s\n",
      "        20           1.3083           14.03s\n",
      "        30           1.2879            6.99s\n",
      "        40           1.2733            0.00s\n",
      "      Iter       Train Loss   Remaining Time \n",
      "         1           1.3786           28.07s\n",
      "         2           1.3731           27.19s\n",
      "         3           1.3684           26.35s\n",
      "         4           1.3640           25.61s\n",
      "         5           1.3590           24.87s\n",
      "         6           1.3548           24.18s\n",
      "         7           1.3505           23.42s\n",
      "         8           1.3461           22.75s\n",
      "         9           1.3422           22.01s\n",
      "        10           1.3386           21.31s\n",
      "        20           1.3090           14.04s\n",
      "        30           1.2888            6.99s\n",
      "        40           1.2738            0.00s\n",
      "      Iter       Train Loss   Remaining Time \n",
      "         1           1.3784           27.75s\n",
      "         2           1.3729           26.91s\n",
      "         3           1.3677           26.21s\n",
      "         4           1.3631           25.51s\n",
      "         5           1.3588           24.82s\n",
      "         6           1.3542           24.08s\n",
      "         7           1.3499           23.36s\n",
      "         8           1.3458           22.67s\n",
      "         9           1.3416           21.94s\n",
      "        10           1.3378           21.24s\n",
      "        20           1.3082           14.02s\n",
      "        30           1.2882            7.00s\n",
      "        40           1.2735            0.00s\n",
      "      Iter       Train Loss   Remaining Time \n",
      "         1           1.3783           27.98s\n",
      "         2           1.3726           27.14s\n",
      "         3           1.3677           26.30s\n",
      "         4           1.3631           25.59s\n",
      "         5           1.3582           24.85s\n",
      "         6           1.3541           24.16s\n",
      "         7           1.3497           23.41s\n",
      "         8           1.3452           22.71s\n",
      "         9           1.3414           21.99s\n",
      "        10           1.3377           21.27s\n",
      "        20           1.3080           14.05s\n",
      "        30           1.2875            7.02s\n",
      "        40           1.2728            0.00s\n",
      "      Iter       Train Loss   Remaining Time \n",
      "         1           1.3786           27.87s\n",
      "         2           1.3730           26.95s\n",
      "         3           1.3677           26.24s\n",
      "         4           1.3631           25.47s\n",
      "         5           1.3580           24.75s\n",
      "         6           1.3538           24.05s\n",
      "         7           1.3492           23.48s\n",
      "         8           1.3450           22.82s\n",
      "         9           1.3409           22.11s\n",
      "        10           1.3370           21.43s\n",
      "        20           1.3073           14.10s\n",
      "        30           1.2869            7.01s\n",
      "        40           1.2720            0.00s\n",
      "Time elapsed: 0:02:20.637007\n",
      "40 trees yield ROC-AUC = 0.6934\n",
      "      Iter       Train Loss   Remaining Time \n",
      "         1           1.3788           34.84s\n",
      "         2           1.3732           34.13s\n",
      "         3           1.3681           33.25s\n",
      "         4           1.3637           32.55s\n",
      "         5           1.3591           31.87s\n",
      "         6           1.3545           31.16s\n",
      "         7           1.3500           30.44s\n",
      "         8           1.3457           29.76s\n",
      "         9           1.3417           29.00s\n",
      "        10           1.3378           28.32s\n",
      "        20           1.3083           21.07s\n",
      "        30           1.2879           13.99s\n",
      "        40           1.2733            6.98s\n",
      "        50           1.2620            0.00s\n",
      "      Iter       Train Loss   Remaining Time \n",
      "         1           1.3786           35.17s\n",
      "         2           1.3731           34.20s\n",
      "         3           1.3684           33.59s\n",
      "         4           1.3640           32.75s\n",
      "         5           1.3590           32.04s\n",
      "         6           1.3548           31.30s\n",
      "         7           1.3505           30.58s\n",
      "         8           1.3461           29.84s\n",
      "         9           1.3422           29.13s\n",
      "        10           1.3386           28.40s\n",
      "        20           1.3090           21.10s\n",
      "        30           1.2888           14.00s\n",
      "        40           1.2738            6.99s\n",
      "        50           1.2625            0.00s\n",
      "      Iter       Train Loss   Remaining Time \n",
      "         1           1.3784           35.17s\n",
      "         2           1.3729           34.21s\n",
      "         3           1.3677           33.37s\n",
      "         4           1.3631           32.62s\n",
      "         5           1.3588           32.01s\n",
      "         6           1.3542           31.25s\n",
      "         7           1.3499           30.52s\n",
      "         8           1.3458           29.80s\n",
      "         9           1.3416           29.10s\n",
      "        10           1.3378           28.39s\n",
      "        20           1.3082           21.04s\n",
      "        30           1.2882           13.98s\n",
      "        40           1.2735            6.99s\n",
      "        50           1.2621            0.00s\n",
      "      Iter       Train Loss   Remaining Time \n",
      "         1           1.3783           35.11s\n",
      "         2           1.3726           34.26s\n",
      "         3           1.3677           33.39s\n",
      "         4           1.3631           32.70s\n",
      "         5           1.3582           31.97s\n",
      "         6           1.3541           31.28s\n",
      "         7           1.3497           30.53s\n",
      "         8           1.3452           29.86s\n",
      "         9           1.3414           29.14s\n",
      "        10           1.3377           28.43s\n",
      "        20           1.3080           21.08s\n",
      "        30           1.2875           14.00s\n",
      "        40           1.2728            7.00s\n",
      "        50           1.2616            0.00s\n",
      "      Iter       Train Loss   Remaining Time \n",
      "         1           1.3786           34.88s\n",
      "         2           1.3730           34.07s\n",
      "         3           1.3677           33.42s\n",
      "         4           1.3631           32.65s\n",
      "         5           1.3580           31.89s\n",
      "         6           1.3538           31.23s\n",
      "         7           1.3492           30.53s\n",
      "         8           1.3450           29.83s\n",
      "         9           1.3409           29.08s\n",
      "        10           1.3370           28.37s\n",
      "        20           1.3073           21.10s\n",
      "        30           1.2869           14.02s\n",
      "        40           1.2720            6.99s\n",
      "        50           1.2607            0.00s\n",
      "Time elapsed: 0:02:55.414776\n",
      "50 trees yield ROC-AUC = 0.6970\n",
      "      Iter       Train Loss   Remaining Time \n",
      "         1           1.3788            2.38m\n",
      "         2           1.3732            2.35m\n",
      "         3           1.3681            2.33m\n",
      "         4           1.3637            2.32m\n",
      "         5           1.3591            2.31m\n",
      "         6           1.3545            2.30m\n",
      "         7           1.3500            2.29m\n",
      "         8           1.3457            2.27m\n",
      "         9           1.3417            2.26m\n",
      "        10           1.3378            2.25m\n",
      "        20           1.3083            2.11m\n",
      "        30           1.2879            1.98m\n",
      "        40           1.2733            1.86m\n",
      "        50           1.2620            1.74m\n",
      "        60           1.2530            1.63m\n",
      "        70           1.2456            1.51m\n",
      "        80           1.2392            1.39m\n",
      "        90           1.2338            1.28m\n",
      "       100           1.2290            1.16m\n",
      "       200           1.1980            0.00s\n",
      "      Iter       Train Loss   Remaining Time \n",
      "         1           1.3786            2.40m\n",
      "         2           1.3731            2.36m\n",
      "         3           1.3684            2.34m\n",
      "         4           1.3640            2.32m\n",
      "         5           1.3590            2.30m\n",
      "         6           1.3548            2.29m\n",
      "         7           1.3505            2.28m\n",
      "         8           1.3461            2.27m\n",
      "         9           1.3422            2.25m\n",
      "        10           1.3386            2.24m\n",
      "        20           1.3090            2.10m\n",
      "        30           1.2888            1.98m\n",
      "        40           1.2738            1.87m\n",
      "        50           1.2625            1.75m\n"
     ]
    },
    {
     "name": "stdout",
     "output_type": "stream",
     "text": [
      "        60           1.2535            1.63m\n",
      "        70           1.2459            1.51m\n",
      "        80           1.2397            1.40m\n",
      "        90           1.2345            1.28m\n",
      "       100           1.2298            1.16m\n",
      "       200           1.1989            0.00s\n",
      "      Iter       Train Loss   Remaining Time \n",
      "         1           1.3784            2.47m\n",
      "         2           1.3729            2.39m\n",
      "         3           1.3677            2.37m\n",
      "         4           1.3631            2.36m\n",
      "         5           1.3588            2.37m\n",
      "         6           1.3542            2.35m\n",
      "         7           1.3499            2.33m\n",
      "         8           1.3458            2.31m\n",
      "         9           1.3416            2.30m\n",
      "        10           1.3378            2.28m\n",
      "        20           1.3082            2.12m\n",
      "        30           1.2882            1.99m\n",
      "        40           1.2735            1.87m\n",
      "        50           1.2621            1.75m\n",
      "        60           1.2531            1.63m\n",
      "        70           1.2457            1.52m\n",
      "        80           1.2395            1.40m\n",
      "        90           1.2343            1.28m\n",
      "       100           1.2294            1.16m\n",
      "       200           1.1992            0.00s\n",
      "      Iter       Train Loss   Remaining Time \n",
      "         1           1.3783            2.41m\n",
      "         2           1.3726            2.37m\n",
      "         3           1.3677            2.35m\n",
      "         4           1.3631            2.33m\n",
      "         5           1.3582            2.32m\n",
      "         6           1.3541            2.31m\n",
      "         7           1.3497            2.29m\n",
      "         8           1.3452            2.28m\n",
      "         9           1.3414            2.27m\n",
      "        10           1.3377            2.26m\n",
      "        20           1.3080            2.11m\n",
      "        30           1.2875            1.99m\n",
      "        40           1.2728            1.87m\n",
      "        50           1.2616            1.75m\n",
      "        60           1.2526            1.63m\n",
      "        70           1.2452            1.51m\n",
      "        80           1.2386            1.40m\n",
      "        90           1.2332            1.28m\n",
      "       100           1.2285            1.16m\n",
      "       200           1.1981            0.00s\n",
      "      Iter       Train Loss   Remaining Time \n",
      "         1           1.3786            2.41m\n",
      "         2           1.3730            2.36m\n",
      "         3           1.3677            2.34m\n",
      "         4           1.3631            2.32m\n",
      "         5           1.3580            2.31m\n",
      "         6           1.3538            2.29m\n",
      "         7           1.3492            2.28m\n",
      "         8           1.3450            2.27m\n",
      "         9           1.3409            2.25m\n",
      "        10           1.3370            2.24m\n",
      "        20           1.3073            2.10m\n",
      "        30           1.2869            1.98m\n",
      "        40           1.2720            1.86m\n",
      "        50           1.2607            1.74m\n",
      "        60           1.2518            1.63m\n",
      "        70           1.2442            1.51m\n",
      "        80           1.2381            1.39m\n",
      "        90           1.2326            1.28m\n",
      "       100           1.2278            1.16m\n",
      "       200           1.1973            0.00s\n",
      "Time elapsed: 0:11:41.593782\n",
      "200 trees yield ROC-AUC = 0.7136\n"
     ]
    }
   ],
   "source": [
    "kf = sklearn.model_selection.KFold(n_splits=5, shuffle=True, random_state=0)\n",
    "trees = list(np.arange(10,51,10))\n",
    "trees.append(200)\n",
    "qualities = []\n",
    "for tree in trees:\n",
    "    estimator = sklearn.ensemble.GradientBoostingClassifier(n_estimators=tree, verbose=True,\n",
    "                                                            random_state=0, learning_rate=0.1)\n",
    "    start_time = datetime.datetime.now()\n",
    "    quality = sklearn.model_selection.cross_val_score(estimator, features, y, cv=kf, scoring='roc_auc')\n",
    "    print(f'Time elapsed: {(datetime.datetime.now() - start_time)}')\n",
    "    quality = np.mean(quality)\n",
    "    print(f'{tree} trees yield ROC-AUC = {quality:.4f}')\n",
    "    qualities.append(quality)"
   ]
  },
  {
   "cell_type": "markdown",
   "metadata": {},
   "source": [
    "Кросс-валидация для градиентного бустинга с 30 деревьями проводилась 1 минуту 46 секунд (c округлением до целых) и дала величину метрики ROC-AUC = 0.6886 (с округлением до десятитысячных)."
   ]
  },
  {
   "cell_type": "markdown",
   "metadata": {},
   "source": [
    "Визуализировать метрику качества (ROC-AUC) от количества деревьев"
   ]
  },
  {
   "cell_type": "code",
   "execution_count": 8,
   "metadata": {},
   "outputs": [
    {
     "data": {
      "image/png": "[encoded data removed]",
      "text/plain": [
       "<Figure size 432x288 with 1 Axes>"
      ]
     },
     "metadata": {
      "needs_background": "light"
     },
     "output_type": "display_data"
    }
   ],
   "source": [
    "plt.figure()\n",
    "plt.plot(trees, qualities, 'r', linewidth=2)\n",
    "plt.title('ROC-AUC')\n",
    "plt.ylabel('ROC-AUC')\n",
    "plt.xlabel('trees')\n",
    "plt.show()"
   ]
  },
  {
   "cell_type": "markdown",
   "metadata": {},
   "source": [
    "Качество растет при увеличении количества деревьев. Однако, при использовании более 50 деревьев качество увеличивается незначительно, а время исполнения алгоритма сильно увеличивается, поэтому увеличивать количество деревьев далее нецелесообразно. Чтобы ускорить градиентный бустинг при увеличении количества деревьев можно уменьшить ограничение на глубину деревьев в градиентом бустинге."
   ]
  },
  {
   "cell_type": "markdown",
   "metadata": {},
   "source": [
    "Подход 2: логистическая регрессия"
   ]
  },
  {
   "cell_type": "markdown",
   "metadata": {},
   "source": [
    "Выполним масштабирование."
   ]
  },
  {
   "cell_type": "code",
   "execution_count": 9,
   "metadata": {},
   "outputs": [],
   "source": [
    "scaled_ftrs = sklearn.preprocessing.StandardScaler().fit_transform(features)"
   ]
  },
  {
   "cell_type": "markdown",
   "metadata": {},
   "source": [
    "Оценим качество логистической регрессии с помощью кросс-валидации по той же схеме, которая использовалась для градиентного бустинга. Подберем при этом лучший параметр регуляризации C. Какое наилучшее качество получилось? Как оно соотносится с качеством градиентного бустинга? Чем объясняется разница? Быстрее ли работает логистическая регрессия по сравнению с градиентным бустингом?"
   ]
  },
  {
   "cell_type": "code",
   "execution_count": 10,
   "metadata": {},
   "outputs": [
    {
     "name": "stderr",
     "output_type": "stream",
     "text": [
      "[Parallel(n_jobs=1)]: Using backend SequentialBackend with 1 concurrent workers.\n",
      "[Parallel(n_jobs=1)]: Done   1 out of   1 | elapsed:    0.1s finished\n",
      "[Parallel(n_jobs=1)]: Using backend SequentialBackend with 1 concurrent workers.\n",
      "[Parallel(n_jobs=1)]: Done   1 out of   1 | elapsed:    0.2s finished\n",
      "[Parallel(n_jobs=1)]: Using backend SequentialBackend with 1 concurrent workers.\n",
      "[Parallel(n_jobs=1)]: Done   1 out of   1 | elapsed:    0.2s finished\n",
      "[Parallel(n_jobs=1)]: Using backend SequentialBackend with 1 concurrent workers.\n",
      "[Parallel(n_jobs=1)]: Done   1 out of   1 | elapsed:    0.2s finished\n",
      "[Parallel(n_jobs=1)]: Using backend SequentialBackend with 1 concurrent workers.\n",
      "[Parallel(n_jobs=1)]: Done   1 out of   1 | elapsed:    0.2s finished\n"
     ]
    },
    {
     "name": "stdout",
     "output_type": "stream",
     "text": [
      "Time elapsed: 0:00:01.397065\n",
      "C = 1e-05; ROC-AUC = 0.6950\n"
     ]
    },
    {
     "name": "stderr",
     "output_type": "stream",
     "text": [
      "[Parallel(n_jobs=1)]: Using backend SequentialBackend with 1 concurrent workers.\n",
      "[Parallel(n_jobs=1)]: Done   1 out of   1 | elapsed:    0.2s finished\n",
      "[Parallel(n_jobs=1)]: Using backend SequentialBackend with 1 concurrent workers.\n",
      "[Parallel(n_jobs=1)]: Done   1 out of   1 | elapsed:    0.3s finished\n",
      "[Parallel(n_jobs=1)]: Using backend SequentialBackend with 1 concurrent workers.\n",
      "[Parallel(n_jobs=1)]: Done   1 out of   1 | elapsed:    0.2s finished\n",
      "[Parallel(n_jobs=1)]: Using backend SequentialBackend with 1 concurrent workers.\n",
      "[Parallel(n_jobs=1)]: Done   1 out of   1 | elapsed:    0.2s finished\n",
      "[Parallel(n_jobs=1)]: Using backend SequentialBackend with 1 concurrent workers.\n",
      "[Parallel(n_jobs=1)]: Done   1 out of   1 | elapsed:    0.2s finished\n",
      "[Parallel(n_jobs=1)]: Using backend SequentialBackend with 1 concurrent workers.\n"
     ]
    },
    {
     "name": "stdout",
     "output_type": "stream",
     "text": [
      "Time elapsed: 0:00:01.735447\n",
      "C = 0.0001; ROC-AUC = 0.7112\n"
     ]
    },
    {
     "name": "stderr",
     "output_type": "stream",
     "text": [
      "[Parallel(n_jobs=1)]: Done   1 out of   1 | elapsed:    0.6s finished\n",
      "[Parallel(n_jobs=1)]: Using backend SequentialBackend with 1 concurrent workers.\n",
      "[Parallel(n_jobs=1)]: Done   1 out of   1 | elapsed:    0.5s finished\n",
      "[Parallel(n_jobs=1)]: Using backend SequentialBackend with 1 concurrent workers.\n",
      "[Parallel(n_jobs=1)]: Done   1 out of   1 | elapsed:    0.6s finished\n",
      "[Parallel(n_jobs=1)]: Using backend SequentialBackend with 1 concurrent workers.\n",
      "[Parallel(n_jobs=1)]: Done   1 out of   1 | elapsed:    0.5s finished\n",
      "[Parallel(n_jobs=1)]: Using backend SequentialBackend with 1 concurrent workers.\n",
      "[Parallel(n_jobs=1)]: Done   1 out of   1 | elapsed:    0.5s finished\n",
      "[Parallel(n_jobs=1)]: Using backend SequentialBackend with 1 concurrent workers.\n"
     ]
    },
    {
     "name": "stdout",
     "output_type": "stream",
     "text": [
      "Time elapsed: 0:00:03.182258\n",
      "C = 0.001; ROC-AUC = 0.7161\n"
     ]
    },
    {
     "name": "stderr",
     "output_type": "stream",
     "text": [
      "[Parallel(n_jobs=1)]: Done   1 out of   1 | elapsed:    0.7s finished\n",
      "[Parallel(n_jobs=1)]: Using backend SequentialBackend with 1 concurrent workers.\n",
      "[Parallel(n_jobs=1)]: Done   1 out of   1 | elapsed:    0.7s finished\n",
      "[Parallel(n_jobs=1)]: Using backend SequentialBackend with 1 concurrent workers.\n",
      "[Parallel(n_jobs=1)]: Done   1 out of   1 | elapsed:    0.6s finished\n",
      "[Parallel(n_jobs=1)]: Using backend SequentialBackend with 1 concurrent workers.\n",
      "[Parallel(n_jobs=1)]: Done   1 out of   1 | elapsed:    0.7s finished\n",
      "[Parallel(n_jobs=1)]: Using backend SequentialBackend with 1 concurrent workers.\n",
      "[Parallel(n_jobs=1)]: Done   1 out of   1 | elapsed:    0.7s finished\n",
      "[Parallel(n_jobs=1)]: Using backend SequentialBackend with 1 concurrent workers.\n"
     ]
    },
    {
     "name": "stdout",
     "output_type": "stream",
     "text": [
      "Time elapsed: 0:00:04.081447\n",
      "C = 0.01; ROC-AUC = 0.7163\n"
     ]
    },
    {
     "name": "stderr",
     "output_type": "stream",
     "text": [
      "[Parallel(n_jobs=1)]: Done   1 out of   1 | elapsed:    0.8s finished\n",
      "[Parallel(n_jobs=1)]: Using backend SequentialBackend with 1 concurrent workers.\n",
      "[Parallel(n_jobs=1)]: Done   1 out of   1 | elapsed:    0.7s finished\n",
      "[Parallel(n_jobs=1)]: Using backend SequentialBackend with 1 concurrent workers.\n",
      "[Parallel(n_jobs=1)]: Done   1 out of   1 | elapsed:    0.9s finished\n",
      "[Parallel(n_jobs=1)]: Using backend SequentialBackend with 1 concurrent workers.\n",
      "[Parallel(n_jobs=1)]: Done   1 out of   1 | elapsed:    0.8s finished\n",
      "[Parallel(n_jobs=1)]: Using backend SequentialBackend with 1 concurrent workers.\n",
      "[Parallel(n_jobs=1)]: Done   1 out of   1 | elapsed:    0.7s finished\n",
      "[Parallel(n_jobs=1)]: Using backend SequentialBackend with 1 concurrent workers.\n"
     ]
    },
    {
     "name": "stdout",
     "output_type": "stream",
     "text": [
      "Time elapsed: 0:00:04.448309\n",
      "C = 0.1; ROC-AUC = 0.7162\n"
     ]
    },
    {
     "name": "stderr",
     "output_type": "stream",
     "text": [
      "[Parallel(n_jobs=1)]: Done   1 out of   1 | elapsed:    0.8s finished\n",
      "[Parallel(n_jobs=1)]: Using backend SequentialBackend with 1 concurrent workers.\n",
      "[Parallel(n_jobs=1)]: Done   1 out of   1 | elapsed:    0.8s finished\n",
      "[Parallel(n_jobs=1)]: Using backend SequentialBackend with 1 concurrent workers.\n",
      "[Parallel(n_jobs=1)]: Done   1 out of   1 | elapsed:    0.8s finished\n",
      "[Parallel(n_jobs=1)]: Using backend SequentialBackend with 1 concurrent workers.\n",
      "[Parallel(n_jobs=1)]: Done   1 out of   1 | elapsed:    0.8s finished\n",
      "[Parallel(n_jobs=1)]: Using backend SequentialBackend with 1 concurrent workers.\n",
      "[Parallel(n_jobs=1)]: Done   1 out of   1 | elapsed:    0.8s finished\n",
      "[Parallel(n_jobs=1)]: Using backend SequentialBackend with 1 concurrent workers.\n"
     ]
    },
    {
     "name": "stdout",
     "output_type": "stream",
     "text": [
      "Time elapsed: 0:00:04.500403\n",
      "C = 1.0; ROC-AUC = 0.7162\n"
     ]
    },
    {
     "name": "stderr",
     "output_type": "stream",
     "text": [
      "[Parallel(n_jobs=1)]: Done   1 out of   1 | elapsed:    0.8s finished\n",
      "[Parallel(n_jobs=1)]: Using backend SequentialBackend with 1 concurrent workers.\n",
      "[Parallel(n_jobs=1)]: Done   1 out of   1 | elapsed:    0.7s finished\n",
      "[Parallel(n_jobs=1)]: Using backend SequentialBackend with 1 concurrent workers.\n",
      "[Parallel(n_jobs=1)]: Done   1 out of   1 | elapsed:    0.8s finished\n",
      "[Parallel(n_jobs=1)]: Using backend SequentialBackend with 1 concurrent workers.\n",
      "[Parallel(n_jobs=1)]: Done   1 out of   1 | elapsed:    0.8s finished\n",
      "[Parallel(n_jobs=1)]: Using backend SequentialBackend with 1 concurrent workers.\n",
      "[Parallel(n_jobs=1)]: Done   1 out of   1 | elapsed:    0.8s finished\n",
      "[Parallel(n_jobs=1)]: Using backend SequentialBackend with 1 concurrent workers.\n"
     ]
    },
    {
     "name": "stdout",
     "output_type": "stream",
     "text": [
      "Time elapsed: 0:00:04.443301\n",
      "C = 10.0; ROC-AUC = 0.7162\n"
     ]
    },
    {
     "name": "stderr",
     "output_type": "stream",
     "text": [
      "[Parallel(n_jobs=1)]: Done   1 out of   1 | elapsed:    0.9s finished\n",
      "[Parallel(n_jobs=1)]: Using backend SequentialBackend with 1 concurrent workers.\n",
      "[Parallel(n_jobs=1)]: Done   1 out of   1 | elapsed:    0.8s finished\n",
      "[Parallel(n_jobs=1)]: Using backend SequentialBackend with 1 concurrent workers.\n",
      "[Parallel(n_jobs=1)]: Done   1 out of   1 | elapsed:    0.8s finished\n",
      "[Parallel(n_jobs=1)]: Using backend SequentialBackend with 1 concurrent workers.\n",
      "[Parallel(n_jobs=1)]: Done   1 out of   1 | elapsed:    0.8s finished\n",
      "[Parallel(n_jobs=1)]: Using backend SequentialBackend with 1 concurrent workers.\n",
      "[Parallel(n_jobs=1)]: Done   1 out of   1 | elapsed:    0.8s finished\n",
      "[Parallel(n_jobs=1)]: Using backend SequentialBackend with 1 concurrent workers.\n"
     ]
    },
    {
     "name": "stdout",
     "output_type": "stream",
     "text": [
      "Time elapsed: 0:00:04.652312\n",
      "C = 100.0; ROC-AUC = 0.7162\n"
     ]
    },
    {
     "name": "stderr",
     "output_type": "stream",
     "text": [
      "[Parallel(n_jobs=1)]: Done   1 out of   1 | elapsed:    0.8s finished\n",
      "[Parallel(n_jobs=1)]: Using backend SequentialBackend with 1 concurrent workers.\n",
      "[Parallel(n_jobs=1)]: Done   1 out of   1 | elapsed:    0.7s finished\n",
      "[Parallel(n_jobs=1)]: Using backend SequentialBackend with 1 concurrent workers.\n",
      "[Parallel(n_jobs=1)]: Done   1 out of   1 | elapsed:    0.8s finished\n",
      "[Parallel(n_jobs=1)]: Using backend SequentialBackend with 1 concurrent workers.\n",
      "[Parallel(n_jobs=1)]: Done   1 out of   1 | elapsed:    0.8s finished\n",
      "[Parallel(n_jobs=1)]: Using backend SequentialBackend with 1 concurrent workers.\n",
      "[Parallel(n_jobs=1)]: Done   1 out of   1 | elapsed:    0.8s finished\n",
      "[Parallel(n_jobs=1)]: Using backend SequentialBackend with 1 concurrent workers.\n"
     ]
    },
    {
     "name": "stdout",
     "output_type": "stream",
     "text": [
      "Time elapsed: 0:00:04.543731\n",
      "C = 1000.0; ROC-AUC = 0.7162\n"
     ]
    },
    {
     "name": "stderr",
     "output_type": "stream",
     "text": [
      "[Parallel(n_jobs=1)]: Done   1 out of   1 | elapsed:    0.7s finished\n",
      "[Parallel(n_jobs=1)]: Using backend SequentialBackend with 1 concurrent workers.\n",
      "[Parallel(n_jobs=1)]: Done   1 out of   1 | elapsed:    0.7s finished\n",
      "[Parallel(n_jobs=1)]: Using backend SequentialBackend with 1 concurrent workers.\n",
      "[Parallel(n_jobs=1)]: Done   1 out of   1 | elapsed:    0.9s finished\n",
      "[Parallel(n_jobs=1)]: Using backend SequentialBackend with 1 concurrent workers.\n",
      "[Parallel(n_jobs=1)]: Done   1 out of   1 | elapsed:    0.9s finished\n",
      "[Parallel(n_jobs=1)]: Using backend SequentialBackend with 1 concurrent workers.\n",
      "[Parallel(n_jobs=1)]: Done   1 out of   1 | elapsed:    0.8s finished\n",
      "[Parallel(n_jobs=1)]: Using backend SequentialBackend with 1 concurrent workers.\n"
     ]
    },
    {
     "name": "stdout",
     "output_type": "stream",
     "text": [
      "Time elapsed: 0:00:04.569647\n",
      "C = 10000.0; ROC-AUC = 0.7162\n"
     ]
    },
    {
     "name": "stderr",
     "output_type": "stream",
     "text": [
      "[Parallel(n_jobs=1)]: Done   1 out of   1 | elapsed:    0.7s finished\n",
      "[Parallel(n_jobs=1)]: Using backend SequentialBackend with 1 concurrent workers.\n",
      "[Parallel(n_jobs=1)]: Done   1 out of   1 | elapsed:    0.8s finished\n",
      "[Parallel(n_jobs=1)]: Using backend SequentialBackend with 1 concurrent workers.\n",
      "[Parallel(n_jobs=1)]: Done   1 out of   1 | elapsed:    0.8s finished\n",
      "[Parallel(n_jobs=1)]: Using backend SequentialBackend with 1 concurrent workers.\n",
      "[Parallel(n_jobs=1)]: Done   1 out of   1 | elapsed:    0.7s finished\n",
      "[Parallel(n_jobs=1)]: Using backend SequentialBackend with 1 concurrent workers.\n"
     ]
    },
    {
     "name": "stdout",
     "output_type": "stream",
     "text": [
      "Time elapsed: 0:00:04.406340\n",
      "C = 100000.0; ROC-AUC = 0.7162\n",
      "Logistic regression:\n",
      "Best C = 0.01; Best ROC-AUC = 0.7163\n"
     ]
    },
    {
     "name": "stderr",
     "output_type": "stream",
     "text": [
      "[Parallel(n_jobs=1)]: Done   1 out of   1 | elapsed:    0.8s finished\n"
     ]
    }
   ],
   "source": [
    "c_vals = np.power(10.0, np.arange(-5, 6))\n",
    "qualities_logreg = []\n",
    "for c in c_vals:\n",
    "    est = sklearn.linear_model.LogisticRegression(penalty='l2', C=c, random_state=0, verbose=True)\n",
    "    start_time = datetime.datetime.now()\n",
    "    quality = sklearn.model_selection.cross_val_score(est, scaled_ftrs, y, cv=kf, scoring='roc_auc')\n",
    "    print(f'Time elapsed: {(datetime.datetime.now() - start_time)}')\n",
    "    quality = np.mean(quality)\n",
    "    print(f'C = {c}; ROC-AUC = {quality:.4f}')\n",
    "    qualities_logreg.append(quality)\n",
    "print('Logistic regression:')\n",
    "print(f'Best C = {c_vals[np.argmax(qualities_logreg)]}; Best ROC-AUC = {np.max(qualities_logreg):.4f}')"
   ]
  },
  {
   "cell_type": "markdown",
   "metadata": {},
   "source": [
    "Наилучшее качество логистического регрессора с L2-регуляризацией обеспечивается при С = 0,01. Метрика AUC-ROC при это равна 0,7163 (с округлением до десятитысячных). Это больше, чем для рассматриваемых случаев градиентного бустинга. Это может быть объяснено правильным для логистической регрессии препроцессингом. Полученное значение метрики качества приближено к ее значению для градиентного бустинга над 200 решающими деревьями (AUC-ROC = 0,7136). Однако, логистическая регрессия требует 4 секунды времени, а градиентный бустинг над 200 деревьями - 11 минут и 50 секунд (в 178 раз больше)."
   ]
  },
  {
   "cell_type": "markdown",
   "metadata": {},
   "source": [
    "Среди признаков в выборке есть категориальные, которые мы использовали как числовые, что вряд ли является хорошей идеей. Категориальных признаков в этой задаче одиннадцать: lobby_type и r1_hero, r2_hero, ..., r5_hero, d1_hero, d2_hero, ..., d5_hero. Уберем их из выборки, и проведем кросс-валидацию для логистической регрессии на новой выборке с подбором лучшего параметра регуляризации."
   ]
  },
  {
   "cell_type": "code",
   "execution_count": 11,
   "metadata": {},
   "outputs": [],
   "source": [
    "to_drop_ftrs = ['lobby_type']\n",
    "for i in range(1,6):\n",
    "    to_drop_ftrs.append(f'r{i}_hero')\n",
    "    to_drop_ftrs.append(f'd{i}_hero')\n",
    "scaled_ftrs_decateg = sklearn.preprocessing.StandardScaler().fit_transform(\n",
    "                                                        features.drop(to_drop_ftrs, axis='columns', inplace=False))"
   ]
  },
  {
   "cell_type": "code",
   "execution_count": 12,
   "metadata": {},
   "outputs": [
    {
     "name": "stderr",
     "output_type": "stream",
     "text": [
      "[Parallel(n_jobs=1)]: Using backend SequentialBackend with 1 concurrent workers.\n",
      "[Parallel(n_jobs=1)]: Done   1 out of   1 | elapsed:    0.1s finished\n",
      "[Parallel(n_jobs=1)]: Using backend SequentialBackend with 1 concurrent workers.\n",
      "[Parallel(n_jobs=1)]: Done   1 out of   1 | elapsed:    0.2s finished\n",
      "[Parallel(n_jobs=1)]: Using backend SequentialBackend with 1 concurrent workers.\n",
      "[Parallel(n_jobs=1)]: Done   1 out of   1 | elapsed:    0.2s finished\n",
      "[Parallel(n_jobs=1)]: Using backend SequentialBackend with 1 concurrent workers.\n",
      "[Parallel(n_jobs=1)]: Done   1 out of   1 | elapsed:    0.3s finished\n",
      "[Parallel(n_jobs=1)]: Using backend SequentialBackend with 1 concurrent workers.\n",
      "[Parallel(n_jobs=1)]: Done   1 out of   1 | elapsed:    0.2s finished\n",
      "[Parallel(n_jobs=1)]: Using backend SequentialBackend with 1 concurrent workers.\n"
     ]
    },
    {
     "name": "stdout",
     "output_type": "stream",
     "text": [
      "Time elapsed: 0:00:01.540504\n",
      "C = 1e-05; ROC-AUC = 0.6950\n"
     ]
    },
    {
     "name": "stderr",
     "output_type": "stream",
     "text": [
      "[Parallel(n_jobs=1)]: Done   1 out of   1 | elapsed:    0.2s finished\n",
      "[Parallel(n_jobs=1)]: Using backend SequentialBackend with 1 concurrent workers.\n",
      "[Parallel(n_jobs=1)]: Done   1 out of   1 | elapsed:    0.2s finished\n",
      "[Parallel(n_jobs=1)]: Using backend SequentialBackend with 1 concurrent workers.\n",
      "[Parallel(n_jobs=1)]: Done   1 out of   1 | elapsed:    0.2s finished\n",
      "[Parallel(n_jobs=1)]: Using backend SequentialBackend with 1 concurrent workers.\n",
      "[Parallel(n_jobs=1)]: Done   1 out of   1 | elapsed:    0.2s finished\n",
      "[Parallel(n_jobs=1)]: Using backend SequentialBackend with 1 concurrent workers.\n",
      "[Parallel(n_jobs=1)]: Done   1 out of   1 | elapsed:    0.2s finished\n",
      "[Parallel(n_jobs=1)]: Using backend SequentialBackend with 1 concurrent workers.\n"
     ]
    },
    {
     "name": "stdout",
     "output_type": "stream",
     "text": [
      "Time elapsed: 0:00:01.643328\n",
      "C = 0.0001; ROC-AUC = 0.7112\n"
     ]
    },
    {
     "name": "stderr",
     "output_type": "stream",
     "text": [
      "[Parallel(n_jobs=1)]: Done   1 out of   1 | elapsed:    0.5s finished\n",
      "[Parallel(n_jobs=1)]: Using backend SequentialBackend with 1 concurrent workers.\n",
      "[Parallel(n_jobs=1)]: Done   1 out of   1 | elapsed:    0.4s finished\n",
      "[Parallel(n_jobs=1)]: Using backend SequentialBackend with 1 concurrent workers.\n",
      "[Parallel(n_jobs=1)]: Done   1 out of   1 | elapsed:    0.4s finished\n",
      "[Parallel(n_jobs=1)]: Using backend SequentialBackend with 1 concurrent workers.\n",
      "[Parallel(n_jobs=1)]: Done   1 out of   1 | elapsed:    0.5s finished\n",
      "[Parallel(n_jobs=1)]: Using backend SequentialBackend with 1 concurrent workers.\n",
      "[Parallel(n_jobs=1)]: Done   1 out of   1 | elapsed:    0.4s finished\n",
      "[Parallel(n_jobs=1)]: Using backend SequentialBackend with 1 concurrent workers.\n"
     ]
    },
    {
     "name": "stdout",
     "output_type": "stream",
     "text": [
      "Time elapsed: 0:00:02.778736\n",
      "C = 0.001; ROC-AUC = 0.7162\n"
     ]
    },
    {
     "name": "stderr",
     "output_type": "stream",
     "text": [
      "[Parallel(n_jobs=1)]: Done   1 out of   1 | elapsed:    0.8s finished\n",
      "[Parallel(n_jobs=1)]: Using backend SequentialBackend with 1 concurrent workers.\n",
      "[Parallel(n_jobs=1)]: Done   1 out of   1 | elapsed:    0.6s finished\n",
      "[Parallel(n_jobs=1)]: Using backend SequentialBackend with 1 concurrent workers.\n",
      "[Parallel(n_jobs=1)]: Done   1 out of   1 | elapsed:    0.7s finished\n",
      "[Parallel(n_jobs=1)]: Using backend SequentialBackend with 1 concurrent workers.\n",
      "[Parallel(n_jobs=1)]: Done   1 out of   1 | elapsed:    0.8s finished\n",
      "[Parallel(n_jobs=1)]: Using backend SequentialBackend with 1 concurrent workers.\n",
      "[Parallel(n_jobs=1)]: Done   1 out of   1 | elapsed:    0.8s finished\n",
      "[Parallel(n_jobs=1)]: Using backend SequentialBackend with 1 concurrent workers.\n"
     ]
    },
    {
     "name": "stdout",
     "output_type": "stream",
     "text": [
      "Time elapsed: 0:00:04.215172\n",
      "C = 0.01; ROC-AUC = 0.7163\n"
     ]
    },
    {
     "name": "stderr",
     "output_type": "stream",
     "text": [
      "[Parallel(n_jobs=1)]: Done   1 out of   1 | elapsed:    0.7s finished\n",
      "[Parallel(n_jobs=1)]: Using backend SequentialBackend with 1 concurrent workers.\n",
      "[Parallel(n_jobs=1)]: Done   1 out of   1 | elapsed:    0.7s finished\n",
      "[Parallel(n_jobs=1)]: Using backend SequentialBackend with 1 concurrent workers.\n",
      "[Parallel(n_jobs=1)]: Done   1 out of   1 | elapsed:    0.7s finished\n",
      "[Parallel(n_jobs=1)]: Using backend SequentialBackend with 1 concurrent workers.\n",
      "[Parallel(n_jobs=1)]: Done   1 out of   1 | elapsed:    0.7s finished\n",
      "[Parallel(n_jobs=1)]: Using backend SequentialBackend with 1 concurrent workers.\n",
      "[Parallel(n_jobs=1)]: Done   1 out of   1 | elapsed:    0.7s finished\n",
      "[Parallel(n_jobs=1)]: Using backend SequentialBackend with 1 concurrent workers.\n"
     ]
    },
    {
     "name": "stdout",
     "output_type": "stream",
     "text": [
      "Time elapsed: 0:00:03.985110\n",
      "C = 0.1; ROC-AUC = 0.7163\n"
     ]
    },
    {
     "name": "stderr",
     "output_type": "stream",
     "text": [
      "[Parallel(n_jobs=1)]: Done   1 out of   1 | elapsed:    0.7s finished\n",
      "[Parallel(n_jobs=1)]: Using backend SequentialBackend with 1 concurrent workers.\n",
      "[Parallel(n_jobs=1)]: Done   1 out of   1 | elapsed:    0.7s finished\n",
      "[Parallel(n_jobs=1)]: Using backend SequentialBackend with 1 concurrent workers.\n",
      "[Parallel(n_jobs=1)]: Done   1 out of   1 | elapsed:    0.7s finished\n",
      "[Parallel(n_jobs=1)]: Using backend SequentialBackend with 1 concurrent workers.\n",
      "[Parallel(n_jobs=1)]: Done   1 out of   1 | elapsed:    0.8s finished\n",
      "[Parallel(n_jobs=1)]: Using backend SequentialBackend with 1 concurrent workers.\n",
      "[Parallel(n_jobs=1)]: Done   1 out of   1 | elapsed:    0.8s finished\n",
      "[Parallel(n_jobs=1)]: Using backend SequentialBackend with 1 concurrent workers.\n"
     ]
    },
    {
     "name": "stdout",
     "output_type": "stream",
     "text": [
      "Time elapsed: 0:00:04.182338\n",
      "C = 1.0; ROC-AUC = 0.7163\n"
     ]
    },
    {
     "name": "stderr",
     "output_type": "stream",
     "text": [
      "[Parallel(n_jobs=1)]: Done   1 out of   1 | elapsed:    0.8s finished\n",
      "[Parallel(n_jobs=1)]: Using backend SequentialBackend with 1 concurrent workers.\n",
      "[Parallel(n_jobs=1)]: Done   1 out of   1 | elapsed:    0.6s finished\n",
      "[Parallel(n_jobs=1)]: Using backend SequentialBackend with 1 concurrent workers.\n",
      "[Parallel(n_jobs=1)]: Done   1 out of   1 | elapsed:    0.7s finished\n",
      "[Parallel(n_jobs=1)]: Using backend SequentialBackend with 1 concurrent workers.\n",
      "[Parallel(n_jobs=1)]: Done   1 out of   1 | elapsed:    0.7s finished\n",
      "[Parallel(n_jobs=1)]: Using backend SequentialBackend with 1 concurrent workers.\n",
      "[Parallel(n_jobs=1)]: Done   1 out of   1 | elapsed:    0.7s finished\n",
      "[Parallel(n_jobs=1)]: Using backend SequentialBackend with 1 concurrent workers.\n"
     ]
    },
    {
     "name": "stdout",
     "output_type": "stream",
     "text": [
      "Time elapsed: 0:00:04.088713\n",
      "C = 10.0; ROC-AUC = 0.7163\n"
     ]
    },
    {
     "name": "stderr",
     "output_type": "stream",
     "text": [
      "[Parallel(n_jobs=1)]: Done   1 out of   1 | elapsed:    0.7s finished\n",
      "[Parallel(n_jobs=1)]: Using backend SequentialBackend with 1 concurrent workers.\n",
      "[Parallel(n_jobs=1)]: Done   1 out of   1 | elapsed:    0.7s finished\n",
      "[Parallel(n_jobs=1)]: Using backend SequentialBackend with 1 concurrent workers.\n",
      "[Parallel(n_jobs=1)]: Done   1 out of   1 | elapsed:    0.7s finished\n",
      "[Parallel(n_jobs=1)]: Using backend SequentialBackend with 1 concurrent workers.\n",
      "[Parallel(n_jobs=1)]: Done   1 out of   1 | elapsed:    0.7s finished\n",
      "[Parallel(n_jobs=1)]: Using backend SequentialBackend with 1 concurrent workers.\n",
      "[Parallel(n_jobs=1)]: Done   1 out of   1 | elapsed:    0.7s finished\n",
      "[Parallel(n_jobs=1)]: Using backend SequentialBackend with 1 concurrent workers.\n"
     ]
    },
    {
     "name": "stdout",
     "output_type": "stream",
     "text": [
      "Time elapsed: 0:00:04.055822\n",
      "C = 100.0; ROC-AUC = 0.7163\n"
     ]
    },
    {
     "name": "stderr",
     "output_type": "stream",
     "text": [
      "[Parallel(n_jobs=1)]: Done   1 out of   1 | elapsed:    0.7s finished\n",
      "[Parallel(n_jobs=1)]: Using backend SequentialBackend with 1 concurrent workers.\n",
      "[Parallel(n_jobs=1)]: Done   1 out of   1 | elapsed:    0.8s finished\n",
      "[Parallel(n_jobs=1)]: Using backend SequentialBackend with 1 concurrent workers.\n",
      "[Parallel(n_jobs=1)]: Done   1 out of   1 | elapsed:    0.7s finished\n",
      "[Parallel(n_jobs=1)]: Using backend SequentialBackend with 1 concurrent workers.\n",
      "[Parallel(n_jobs=1)]: Done   1 out of   1 | elapsed:    0.7s finished\n",
      "[Parallel(n_jobs=1)]: Using backend SequentialBackend with 1 concurrent workers.\n",
      "[Parallel(n_jobs=1)]: Done   1 out of   1 | elapsed:    0.7s finished\n",
      "[Parallel(n_jobs=1)]: Using backend SequentialBackend with 1 concurrent workers.\n"
     ]
    },
    {
     "name": "stdout",
     "output_type": "stream",
     "text": [
      "Time elapsed: 0:00:04.039275\n",
      "C = 1000.0; ROC-AUC = 0.7163\n"
     ]
    },
    {
     "name": "stderr",
     "output_type": "stream",
     "text": [
      "[Parallel(n_jobs=1)]: Done   1 out of   1 | elapsed:    0.6s finished\n",
      "[Parallel(n_jobs=1)]: Using backend SequentialBackend with 1 concurrent workers.\n",
      "[Parallel(n_jobs=1)]: Done   1 out of   1 | elapsed:    0.7s finished\n",
      "[Parallel(n_jobs=1)]: Using backend SequentialBackend with 1 concurrent workers.\n",
      "[Parallel(n_jobs=1)]: Done   1 out of   1 | elapsed:    0.7s finished\n",
      "[Parallel(n_jobs=1)]: Using backend SequentialBackend with 1 concurrent workers.\n",
      "[Parallel(n_jobs=1)]: Done   1 out of   1 | elapsed:    0.7s finished\n",
      "[Parallel(n_jobs=1)]: Using backend SequentialBackend with 1 concurrent workers.\n",
      "[Parallel(n_jobs=1)]: Done   1 out of   1 | elapsed:    0.7s finished\n",
      "[Parallel(n_jobs=1)]: Using backend SequentialBackend with 1 concurrent workers.\n"
     ]
    },
    {
     "name": "stdout",
     "output_type": "stream",
     "text": [
      "Time elapsed: 0:00:03.883470\n",
      "C = 10000.0; ROC-AUC = 0.7163\n"
     ]
    },
    {
     "name": "stderr",
     "output_type": "stream",
     "text": [
      "[Parallel(n_jobs=1)]: Done   1 out of   1 | elapsed:    0.7s finished\n",
      "[Parallel(n_jobs=1)]: Using backend SequentialBackend with 1 concurrent workers.\n",
      "[Parallel(n_jobs=1)]: Done   1 out of   1 | elapsed:    0.7s finished\n",
      "[Parallel(n_jobs=1)]: Using backend SequentialBackend with 1 concurrent workers.\n",
      "[Parallel(n_jobs=1)]: Done   1 out of   1 | elapsed:    0.7s finished\n",
      "[Parallel(n_jobs=1)]: Using backend SequentialBackend with 1 concurrent workers.\n",
      "[Parallel(n_jobs=1)]: Done   1 out of   1 | elapsed:    0.7s finished\n",
      "[Parallel(n_jobs=1)]: Using backend SequentialBackend with 1 concurrent workers.\n"
     ]
    },
    {
     "name": "stdout",
     "output_type": "stream",
     "text": [
      "Time elapsed: 0:00:04.129277\n",
      "C = 100000.0; ROC-AUC = 0.7163\n",
      "Categorical features removed:\n",
      "Best C = 0.01; Best ROC-AUC = 0.7163\n"
     ]
    },
    {
     "name": "stderr",
     "output_type": "stream",
     "text": [
      "[Parallel(n_jobs=1)]: Done   1 out of   1 | elapsed:    0.8s finished\n"
     ]
    }
   ],
   "source": [
    "c_vals = np.power(10.0, np.arange(-5, 6))\n",
    "qualities_decateg = []\n",
    "for c in c_vals:\n",
    "    est = sklearn.linear_model.LogisticRegression(penalty='l2', C=c, random_state=0, verbose=True)\n",
    "    start_time = datetime.datetime.now()\n",
    "    quality = sklearn.model_selection.cross_val_score(est, scaled_ftrs_decateg, y, cv=kf, scoring='roc_auc')\n",
    "    print(f'Time elapsed: {(datetime.datetime.now() - start_time)}')\n",
    "    quality = np.mean(quality)\n",
    "    print(f'C = {c}; ROC-AUC = {quality:.4f}')\n",
    "    qualities_decateg.append(quality)\n",
    "print('Categorical features removed:')\n",
    "print(f'Best C = {c_vals[np.argmax(qualities_decateg)]}; Best ROC-AUC = {np.max(qualities_decateg):.4f}')"
   ]
  },
  {
   "cell_type": "markdown",
   "metadata": {},
   "source": [
    "При удалении категориальных признаков качество не изменилось (значение метрики AUC-ROC = 0.7163 при округлении до десятитысячных), это говорит о невозможности учета логистическим регрессором категориальных признаков без обработки (несмотря на их важность)."
   ]
  },
  {
   "cell_type": "markdown",
   "metadata": {},
   "source": [
    "На предыдущем шаге мы исключили из выборки признаки rM_hero и dM_hero, которые показывают, какие именно герои играли за каждую команду. Это важные признаки — герои имеют разные характеристики, и некоторые из них выигрывают чаще, чем другие. Можно выяснить из данных, сколько различных идентификаторов героев существует в данной игре."
   ]
  },
  {
   "cell_type": "code",
   "execution_count": 13,
   "metadata": {},
   "outputs": [
    {
     "name": "stdout",
     "output_type": "stream",
     "text": [
      "Unique heroes: 112\n"
     ]
    }
   ],
   "source": [
    "unique_heroes = len(pd.read_csv('data/dictionaries/heroes.csv'))\n",
    "print(f'Unique heroes: {unique_heroes}')"
   ]
  },
  {
   "cell_type": "markdown",
   "metadata": {},
   "source": [
    "Воспользуемся подходом \"мешок слов\" для кодирования информации о героях. Пусть всего в игре имеет N различных героев. Сформируем N признаков, при этом i-й будет равен нулю, если i-й герой не участвовал в матче; единице, если i-й герой играл за команду Radiant; минус единице, если i-й герой играл за команду Dire. Добавим полученные признаки к числовым, которые использовались раннее."
   ]
  },
  {
   "cell_type": "code",
   "execution_count": 14,
   "metadata": {},
   "outputs": [],
   "source": [
    "X_pick = np.zeros((features.shape[0], unique_heroes))\n",
    "for i, match_id in enumerate(features.index):\n",
    "    for p in range(5):\n",
    "        X_pick[i, features.loc[match_id, 'r%d_hero' % (p+1)]-1] = 1\n",
    "        X_pick[i, features.loc[match_id, 'd%d_hero' % (p+1)]-1] = -1\n",
    "heroes = pd.DataFrame(X_pick, index=features.index)\n",
    "X_train = pd.concat([features, heroes], axis=1)\n",
    "scaler = sklearn.preprocessing.StandardScaler()\n",
    "X_train_decateg = X_train.drop(to_drop_ftrs, axis='columns', inplace=False)\n",
    "X_train_decateg_scaled = scaler.fit_transform(X_train_decateg)"
   ]
  },
  {
   "cell_type": "markdown",
   "metadata": {},
   "source": [
    "Проведем кросс-валидацию для логистической регрессии на новой выборке с подбором лучшего параметра регуляризации."
   ]
  },
  {
   "cell_type": "code",
   "execution_count": 15,
   "metadata": {},
   "outputs": [
    {
     "name": "stderr",
     "output_type": "stream",
     "text": [
      "[Parallel(n_jobs=1)]: Using backend SequentialBackend with 1 concurrent workers.\n",
      "[Parallel(n_jobs=1)]: Done   1 out of   1 | elapsed:    0.4s finished\n",
      "[Parallel(n_jobs=1)]: Using backend SequentialBackend with 1 concurrent workers.\n",
      "[Parallel(n_jobs=1)]: Done   1 out of   1 | elapsed:    0.3s finished\n",
      "[Parallel(n_jobs=1)]: Using backend SequentialBackend with 1 concurrent workers.\n",
      "[Parallel(n_jobs=1)]: Done   1 out of   1 | elapsed:    0.3s finished\n",
      "[Parallel(n_jobs=1)]: Using backend SequentialBackend with 1 concurrent workers.\n",
      "[Parallel(n_jobs=1)]: Done   1 out of   1 | elapsed:    0.3s finished\n",
      "[Parallel(n_jobs=1)]: Using backend SequentialBackend with 1 concurrent workers.\n",
      "[Parallel(n_jobs=1)]: Done   1 out of   1 | elapsed:    0.3s finished\n"
     ]
    },
    {
     "name": "stdout",
     "output_type": "stream",
     "text": [
      "Time elapsed: 0:00:02.596421\n",
      "C = 1e-05; ROC-AUC = 0.7147\n"
     ]
    },
    {
     "name": "stderr",
     "output_type": "stream",
     "text": [
      "[Parallel(n_jobs=1)]: Using backend SequentialBackend with 1 concurrent workers.\n",
      "[Parallel(n_jobs=1)]: Done   1 out of   1 | elapsed:    0.4s finished\n",
      "[Parallel(n_jobs=1)]: Using backend SequentialBackend with 1 concurrent workers.\n",
      "[Parallel(n_jobs=1)]: Done   1 out of   1 | elapsed:    0.5s finished\n",
      "[Parallel(n_jobs=1)]: Using backend SequentialBackend with 1 concurrent workers.\n",
      "[Parallel(n_jobs=1)]: Done   1 out of   1 | elapsed:    0.4s finished\n",
      "[Parallel(n_jobs=1)]: Using backend SequentialBackend with 1 concurrent workers.\n",
      "[Parallel(n_jobs=1)]: Done   1 out of   1 | elapsed:    0.4s finished\n",
      "[Parallel(n_jobs=1)]: Using backend SequentialBackend with 1 concurrent workers.\n",
      "[Parallel(n_jobs=1)]: Done   1 out of   1 | elapsed:    0.4s finished\n",
      "[Parallel(n_jobs=1)]: Using backend SequentialBackend with 1 concurrent workers.\n"
     ]
    },
    {
     "name": "stdout",
     "output_type": "stream",
     "text": [
      "Time elapsed: 0:00:03.101547\n",
      "C = 0.0001; ROC-AUC = 0.7426\n"
     ]
    },
    {
     "name": "stderr",
     "output_type": "stream",
     "text": [
      "[Parallel(n_jobs=1)]: Done   1 out of   1 | elapsed:    0.8s finished\n",
      "[Parallel(n_jobs=1)]: Using backend SequentialBackend with 1 concurrent workers.\n",
      "[Parallel(n_jobs=1)]: Done   1 out of   1 | elapsed:    0.8s finished\n",
      "[Parallel(n_jobs=1)]: Using backend SequentialBackend with 1 concurrent workers.\n",
      "[Parallel(n_jobs=1)]: Done   1 out of   1 | elapsed:    0.9s finished\n",
      "[Parallel(n_jobs=1)]: Using backend SequentialBackend with 1 concurrent workers.\n",
      "[Parallel(n_jobs=1)]: Done   1 out of   1 | elapsed:    0.8s finished\n",
      "[Parallel(n_jobs=1)]: Using backend SequentialBackend with 1 concurrent workers.\n",
      "[Parallel(n_jobs=1)]: Done   1 out of   1 | elapsed:    0.8s finished\n",
      "[Parallel(n_jobs=1)]: Using backend SequentialBackend with 1 concurrent workers.\n"
     ]
    },
    {
     "name": "stdout",
     "output_type": "stream",
     "text": [
      "Time elapsed: 0:00:05.163246\n",
      "C = 0.001; ROC-AUC = 0.7514\n"
     ]
    },
    {
     "name": "stderr",
     "output_type": "stream",
     "text": [
      "[Parallel(n_jobs=1)]: Done   1 out of   1 | elapsed:    1.3s finished\n",
      "[Parallel(n_jobs=1)]: Using backend SequentialBackend with 1 concurrent workers.\n",
      "[Parallel(n_jobs=1)]: Done   1 out of   1 | elapsed:    1.5s finished\n",
      "[Parallel(n_jobs=1)]: Using backend SequentialBackend with 1 concurrent workers.\n",
      "[Parallel(n_jobs=1)]: Done   1 out of   1 | elapsed:    1.2s finished\n",
      "[Parallel(n_jobs=1)]: Using backend SequentialBackend with 1 concurrent workers.\n",
      "[Parallel(n_jobs=1)]: Done   1 out of   1 | elapsed:    1.3s finished\n",
      "[Parallel(n_jobs=1)]: Using backend SequentialBackend with 1 concurrent workers.\n",
      "[Parallel(n_jobs=1)]: Done   1 out of   1 | elapsed:    1.4s finished\n"
     ]
    },
    {
     "name": "stdout",
     "output_type": "stream",
     "text": [
      "Time elapsed: 0:00:07.717387\n",
      "C = 0.01; ROC-AUC = 0.7518\n"
     ]
    },
    {
     "name": "stderr",
     "output_type": "stream",
     "text": [
      "[Parallel(n_jobs=1)]: Using backend SequentialBackend with 1 concurrent workers.\n",
      "[Parallel(n_jobs=1)]: Done   1 out of   1 | elapsed:    1.6s finished\n",
      "[Parallel(n_jobs=1)]: Using backend SequentialBackend with 1 concurrent workers.\n",
      "[Parallel(n_jobs=1)]: Done   1 out of   1 | elapsed:    1.4s finished\n",
      "[Parallel(n_jobs=1)]: Using backend SequentialBackend with 1 concurrent workers.\n",
      "[Parallel(n_jobs=1)]: Done   1 out of   1 | elapsed:    1.4s finished\n",
      "[Parallel(n_jobs=1)]: Using backend SequentialBackend with 1 concurrent workers.\n",
      "[Parallel(n_jobs=1)]: Done   1 out of   1 | elapsed:    1.4s finished\n",
      "[Parallel(n_jobs=1)]: Using backend SequentialBackend with 1 concurrent workers.\n",
      "[Parallel(n_jobs=1)]: Done   1 out of   1 | elapsed:    1.4s finished\n",
      "[Parallel(n_jobs=1)]: Using backend SequentialBackend with 1 concurrent workers.\n"
     ]
    },
    {
     "name": "stdout",
     "output_type": "stream",
     "text": [
      "Time elapsed: 0:00:08.159022\n",
      "C = 0.1; ROC-AUC = 0.7517\n"
     ]
    },
    {
     "name": "stderr",
     "output_type": "stream",
     "text": [
      "[Parallel(n_jobs=1)]: Done   1 out of   1 | elapsed:    1.5s finished\n",
      "[Parallel(n_jobs=1)]: Using backend SequentialBackend with 1 concurrent workers.\n",
      "[Parallel(n_jobs=1)]: Done   1 out of   1 | elapsed:    1.6s finished\n",
      "[Parallel(n_jobs=1)]: Using backend SequentialBackend with 1 concurrent workers.\n",
      "[Parallel(n_jobs=1)]: Done   1 out of   1 | elapsed:    1.5s finished\n",
      "[Parallel(n_jobs=1)]: Using backend SequentialBackend with 1 concurrent workers.\n",
      "[Parallel(n_jobs=1)]: Done   1 out of   1 | elapsed:    1.4s finished\n",
      "[Parallel(n_jobs=1)]: Using backend SequentialBackend with 1 concurrent workers.\n",
      "[Parallel(n_jobs=1)]: Done   1 out of   1 | elapsed:    1.5s finished\n"
     ]
    },
    {
     "name": "stdout",
     "output_type": "stream",
     "text": [
      "Time elapsed: 0:00:08.590217\n",
      "C = 1.0; ROC-AUC = 0.7517\n"
     ]
    },
    {
     "name": "stderr",
     "output_type": "stream",
     "text": [
      "[Parallel(n_jobs=1)]: Using backend SequentialBackend with 1 concurrent workers.\n",
      "[Parallel(n_jobs=1)]: Done   1 out of   1 | elapsed:    1.6s finished\n",
      "[Parallel(n_jobs=1)]: Using backend SequentialBackend with 1 concurrent workers.\n",
      "[Parallel(n_jobs=1)]: Done   1 out of   1 | elapsed:    1.4s finished\n",
      "[Parallel(n_jobs=1)]: Using backend SequentialBackend with 1 concurrent workers.\n",
      "[Parallel(n_jobs=1)]: Done   1 out of   1 | elapsed:    1.4s finished\n",
      "[Parallel(n_jobs=1)]: Using backend SequentialBackend with 1 concurrent workers.\n",
      "[Parallel(n_jobs=1)]: Done   1 out of   1 | elapsed:    1.4s finished\n",
      "[Parallel(n_jobs=1)]: Using backend SequentialBackend with 1 concurrent workers.\n",
      "[Parallel(n_jobs=1)]: Done   1 out of   1 | elapsed:    1.3s finished\n",
      "[Parallel(n_jobs=1)]: Using backend SequentialBackend with 1 concurrent workers.\n"
     ]
    },
    {
     "name": "stdout",
     "output_type": "stream",
     "text": [
      "Time elapsed: 0:00:08.166624\n",
      "C = 10.0; ROC-AUC = 0.7517\n"
     ]
    },
    {
     "name": "stderr",
     "output_type": "stream",
     "text": [
      "[Parallel(n_jobs=1)]: Done   1 out of   1 | elapsed:    1.5s finished\n",
      "[Parallel(n_jobs=1)]: Using backend SequentialBackend with 1 concurrent workers.\n",
      "[Parallel(n_jobs=1)]: Done   1 out of   1 | elapsed:    1.6s finished\n",
      "[Parallel(n_jobs=1)]: Using backend SequentialBackend with 1 concurrent workers.\n",
      "[Parallel(n_jobs=1)]: Done   1 out of   1 | elapsed:    1.5s finished\n",
      "[Parallel(n_jobs=1)]: Using backend SequentialBackend with 1 concurrent workers.\n",
      "[Parallel(n_jobs=1)]: Done   1 out of   1 | elapsed:    1.4s finished\n",
      "[Parallel(n_jobs=1)]: Using backend SequentialBackend with 1 concurrent workers.\n",
      "[Parallel(n_jobs=1)]: Done   1 out of   1 | elapsed:    1.4s finished\n",
      "[Parallel(n_jobs=1)]: Using backend SequentialBackend with 1 concurrent workers.\n"
     ]
    },
    {
     "name": "stdout",
     "output_type": "stream",
     "text": [
      "Time elapsed: 0:00:08.536404\n",
      "C = 100.0; ROC-AUC = 0.7517\n"
     ]
    },
    {
     "name": "stderr",
     "output_type": "stream",
     "text": [
      "[Parallel(n_jobs=1)]: Done   1 out of   1 | elapsed:    1.6s finished\n",
      "[Parallel(n_jobs=1)]: Using backend SequentialBackend with 1 concurrent workers.\n",
      "[Parallel(n_jobs=1)]: Done   1 out of   1 | elapsed:    1.4s finished\n",
      "[Parallel(n_jobs=1)]: Using backend SequentialBackend with 1 concurrent workers.\n",
      "[Parallel(n_jobs=1)]: Done   1 out of   1 | elapsed:    1.6s finished\n",
      "[Parallel(n_jobs=1)]: Using backend SequentialBackend with 1 concurrent workers.\n",
      "[Parallel(n_jobs=1)]: Done   1 out of   1 | elapsed:    1.4s finished\n",
      "[Parallel(n_jobs=1)]: Using backend SequentialBackend with 1 concurrent workers.\n",
      "[Parallel(n_jobs=1)]: Done   1 out of   1 | elapsed:    1.3s finished\n"
     ]
    },
    {
     "name": "stdout",
     "output_type": "stream",
     "text": [
      "Time elapsed: 0:00:08.252680\n",
      "C = 1000.0; ROC-AUC = 0.7517\n"
     ]
    },
    {
     "name": "stderr",
     "output_type": "stream",
     "text": [
      "[Parallel(n_jobs=1)]: Using backend SequentialBackend with 1 concurrent workers.\n",
      "[Parallel(n_jobs=1)]: Done   1 out of   1 | elapsed:    1.5s finished\n",
      "[Parallel(n_jobs=1)]: Using backend SequentialBackend with 1 concurrent workers.\n",
      "[Parallel(n_jobs=1)]: Done   1 out of   1 | elapsed:    1.5s finished\n",
      "[Parallel(n_jobs=1)]: Using backend SequentialBackend with 1 concurrent workers.\n",
      "[Parallel(n_jobs=1)]: Done   1 out of   1 | elapsed:    1.4s finished\n",
      "[Parallel(n_jobs=1)]: Using backend SequentialBackend with 1 concurrent workers.\n",
      "[Parallel(n_jobs=1)]: Done   1 out of   1 | elapsed:    1.4s finished\n",
      "[Parallel(n_jobs=1)]: Using backend SequentialBackend with 1 concurrent workers.\n",
      "[Parallel(n_jobs=1)]: Done   1 out of   1 | elapsed:    1.4s finished\n",
      "[Parallel(n_jobs=1)]: Using backend SequentialBackend with 1 concurrent workers.\n"
     ]
    },
    {
     "name": "stdout",
     "output_type": "stream",
     "text": [
      "Time elapsed: 0:00:08.305941\n",
      "C = 10000.0; ROC-AUC = 0.7517\n"
     ]
    },
    {
     "name": "stderr",
     "output_type": "stream",
     "text": [
      "[Parallel(n_jobs=1)]: Done   1 out of   1 | elapsed:    1.5s finished\n",
      "[Parallel(n_jobs=1)]: Using backend SequentialBackend with 1 concurrent workers.\n",
      "[Parallel(n_jobs=1)]: Done   1 out of   1 | elapsed:    1.4s finished\n",
      "[Parallel(n_jobs=1)]: Using backend SequentialBackend with 1 concurrent workers.\n",
      "[Parallel(n_jobs=1)]: Done   1 out of   1 | elapsed:    1.5s finished\n",
      "[Parallel(n_jobs=1)]: Using backend SequentialBackend with 1 concurrent workers.\n",
      "[Parallel(n_jobs=1)]: Done   1 out of   1 | elapsed:    1.5s finished\n",
      "[Parallel(n_jobs=1)]: Using backend SequentialBackend with 1 concurrent workers.\n"
     ]
    },
    {
     "name": "stdout",
     "output_type": "stream",
     "text": [
      "Time elapsed: 0:00:08.181388\n",
      "C = 100000.0; ROC-AUC = 0.7517\n",
      "Heroes added:\n",
      "Best C = 0.01; Best ROC-AUC = 0.7518\n"
     ]
    },
    {
     "name": "stderr",
     "output_type": "stream",
     "text": [
      "[Parallel(n_jobs=1)]: Done   1 out of   1 | elapsed:    1.3s finished\n"
     ]
    }
   ],
   "source": [
    "c_vals = np.power(10.0, np.arange(-5, 6))\n",
    "qualities_heroes = []\n",
    "for c in c_vals:\n",
    "    est = sklearn.linear_model.LogisticRegression(penalty='l2', C=c, random_state=0, verbose=True)\n",
    "    start_time = datetime.datetime.now()\n",
    "    quality = sklearn.model_selection.cross_val_score(est, X_train_decateg_scaled, y, cv=kf, scoring='roc_auc')\n",
    "    print(f'Time elapsed: {(datetime.datetime.now() - start_time)}')\n",
    "    quality = np.mean(quality)\n",
    "    print(f'C = {c}; ROC-AUC = {quality:.4f}')\n",
    "    qualities_heroes.append(quality)\n",
    "print('Heroes added:')\n",
    "print(f'Best C = {c_vals[np.argmax(qualities_heroes)]}; Best ROC-AUC = {np.max(qualities_heroes):.4f}')"
   ]
  },
  {
   "cell_type": "markdown",
   "metadata": {},
   "source": [
    "Качество улучшилось до значения 0,7518 (с округлением до десятитысячных) метрики AUC-ROC при C = 0,01. Это объясняется учетом важных информационных признаков."
   ]
  },
  {
   "cell_type": "markdown",
   "metadata": {},
   "source": [
    "Теперь можно построить предсказания вероятностей победы команды Radiant для тестовой выборки с помощью лучшей из изученных моделей (лучшей с точки зрения AUC-ROC на кросс-валидации). Надо убедиться, что предсказанные вероятности адекватные — находятся на отрезке [0, 1], не совпадают между собой (т.е. что модель не получилась константной)."
   ]
  },
  {
   "cell_type": "markdown",
   "metadata": {},
   "source": [
    "Подготовка тестовой выборки."
   ]
  },
  {
   "cell_type": "code",
   "execution_count": 16,
   "metadata": {},
   "outputs": [],
   "source": [
    "features_test = pd.read_csv('features_test.csv', index_col='match_id')\n",
    "features_test.fillna(0, inplace=True)\n",
    "X_pick_test = np.zeros((features_test.shape[0], unique_heroes))\n",
    "for i, match_id in enumerate(features_test.index):\n",
    "    for p in range(5):\n",
    "        X_pick_test[i, features_test.loc[match_id, 'r%d_hero' % (p+1)]-1] = 1\n",
    "        X_pick_test[i, features_test.loc[match_id, 'd%d_hero' % (p+1)]-1] = -1\n",
    "heroes = pd.DataFrame(X_pick_test, index=features_test.index)\n",
    "X_test = pd.concat([features_test, heroes], axis=1)\n",
    "X_test_decateg = X_train.drop(to_drop_ftrs, axis='columns', inplace=False)\n",
    "X_test_decateg_scaled = scaler.transform(X_test_decateg)"
   ]
  },
  {
   "cell_type": "markdown",
   "metadata": {},
   "source": [
    "Лучшая модель - логистическая регрессия при С = 0,01."
   ]
  },
  {
   "cell_type": "code",
   "execution_count": 17,
   "metadata": {},
   "outputs": [
    {
     "name": "stderr",
     "output_type": "stream",
     "text": [
      "[Parallel(n_jobs=1)]: Using backend SequentialBackend with 1 concurrent workers.\n"
     ]
    },
    {
     "name": "stdout",
     "output_type": "stream",
     "text": [
      "Min win probability = 0.0013; Max win probability = 0.9986\n"
     ]
    },
    {
     "name": "stderr",
     "output_type": "stream",
     "text": [
      "[Parallel(n_jobs=1)]: Done   1 out of   1 | elapsed:    1.6s finished\n"
     ]
    }
   ],
   "source": [
    "final_estimator = sklearn.linear_model.LogisticRegression(penalty='l2', C=0.01, random_state=0, verbose=True)\n",
    "final_estimator.fit(X_train_decateg_scaled, y)\n",
    "pred = final_estimator.predict_proba(X_test_decateg_scaled)[:, 1]\n",
    "print(f'Min win probability = {np.min(pred):.4f}; Max win probability = {np.max(pred):.4f}')"
   ]
  }
 ],
 "metadata": {
  "kernelspec": {
   "display_name": "Python 3",
   "language": "python",
   "name": "python3"
  },
  "language_info": {
   "codemirror_mode": {
    "name": "ipython",
    "version": 3
   },
   "file_extension": ".py",
   "mimetype": "text/x-python",
   "name": "python",
   "nbconvert_exporter": "python",
   "pygments_lexer": "ipython3",
   "version": "3.7.10"
  }
 },
 "nbformat": 4,
 "nbformat_minor": 4
}
